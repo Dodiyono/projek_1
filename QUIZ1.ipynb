{
  "nbformat": 4,
  "nbformat_minor": 0,
  "metadata": {
    "colab": {
      "name": "QUIZ1.ipynb",
      "provenance": [],
      "collapsed_sections": [],
      "authorship_tag": "ABX9TyPp1l41QSiPJuEI78AlEgco",
      "include_colab_link": true
    },
    "kernelspec": {
      "name": "python3",
      "display_name": "Python 3"
    },
    "language_info": {
      "name": "python"
    }
  },
  "cells": [
    {
      "cell_type": "markdown",
      "metadata": {
        "id": "view-in-github",
        "colab_type": "text"
      },
      "source": [
        "<a href=\"https://colab.research.google.com/github/Dodiyono/projek_1/blob/main/QUIZ1.ipynb\" target=\"_parent\"><img src=\"https://colab.research.google.com/assets/colab-badge.svg\" alt=\"Open In Colab\"/></a>"
      ]
    },
    {
      "cell_type": "markdown",
      "source": [
        "1. KALKULATOR AJAIB : Buatlah suatu program untuk membuat kalkulator ajaib dimana ketentuannya adalah sebagai berikut.Hint: percabangan, input()"
      ],
      "metadata": {
        "id": "TKWhDZ6wAkl4"
      }
    },
    {
      "cell_type": "code",
      "execution_count": 12,
      "metadata": {
        "colab": {
          "base_uri": "https://localhost:8080/"
        },
        "id": "Xbmf2QXBAfgt",
        "outputId": "37ebd422-f5ea-4c46-bdd1-adc03850d544"
      },
      "outputs": [
        {
          "output_type": "stream",
          "name": "stdout",
          "text": [
            "=========================\n",
            "KALKULATOR AJAIB\n",
            " 1. Jumlah \t  [+]\n",
            " 2. Kurang \t  [-]\n",
            " 3. Modula \t  [%]\n",
            " 4. Bagi \t  [/]\n",
            " 5. Kali \t  [*]\n",
            "=========================\n",
            "Pilih operasi (1/2/3/4/5): 4\n",
            "Masukkan bilangan pertama: 10\n",
            "Masukkan bilangan kedua: 2\n",
            "Hasil yang diperoleh adalah 10 / 2 = 5.0 :)\n"
          ]
        }
      ],
      "source": [
        "print(\"=\" *25)\n",
        "print(\"KALKULATOR AJAIB\")\n",
        "print(\" 1. Jumlah \\t  [+]\")\n",
        "print(\" 2. Kurang \\t  [-]\")\n",
        "print(\" 3. Modula \\t  [%]\")\n",
        "print(\" 4. Bagi \\t  [/]\") \n",
        "print(\" 5. Kali \\t  [*]\")\n",
        "print(\"=\" * 25)\n",
        "operasi = input(\"Pilih operasi (1/2/3/4/5): \")\n",
        "bilangan1 = eval(input(\"Masukkan bilangan pertama: \"))\n",
        "bilangan2 = eval(input(\"Masukkan bilangan kedua: \"))\n",
        "\n",
        "if operasi == \"1\" :\n",
        "  hasil = bilangan1 + bilangan2\n",
        "  print(f\"Hasil yang diperoleh adalah {bilangan1} + {bilangan2} = {hasil} \" + \":)\")\n",
        "elif operasi ==\"2\" :\n",
        "  hasil = bilangan1 - bilangan2\n",
        "  print(f\"Hasil yang diperoleh adalah {bilangan1} - {bilangan2} = {hasil} \" + \":)\")  \n",
        "elif operasi ==\"3\" :\n",
        "  hasil = bilangan1 % bilangan2\n",
        "  print(f\"Hasil yang diperoleh adalah {bilangan1} % {bilangan2} = {hasil} \" + \":)\")  \n",
        "elif operasi ==\"4\" :\n",
        "  hasil = bilangan1 / bilangan2\n",
        "  print(f\"Hasil yang diperoleh adalah {bilangan1} / {bilangan2} = {hasil} \" + \":)\")  \n",
        "elif operasi ==\"5\" :\n",
        "  print(\"Maaf operator tidak dikenal\")\n",
        "else :\n",
        "  print(\"Tidak valid\")  "
      ]
    },
    {
      "cell_type": "markdown",
      "source": [
        "2. Buatlah suatu program yang dapat menghasilkan nilai penjumlahan dan penggabungan dari dua bilangan"
      ],
      "metadata": {
        "id": "aWqZUaIVJu4d"
      }
    },
    {
      "cell_type": "code",
      "source": [
        "print(\"*\" * 40)\n",
        "bilangan1 = eval(input(\"Masukkan bilangan pertama: \"))\n",
        "bilangan2 = eval(input(\"Masukkan bilangan kedua: \"))\n",
        "hasil = bilangan1 + bilangan2\n",
        "print(hasil)\n",
        "x = (str(bilangan1))+(str(bilangan2))\n",
        "print(x)\n"
      ],
      "metadata": {
        "colab": {
          "base_uri": "https://localhost:8080/"
        },
        "id": "ew-aCd25Jvw1",
        "outputId": "0d9be967-2475-4181-dfc1-890bf735d8c0"
      },
      "execution_count": 27,
      "outputs": [
        {
          "output_type": "stream",
          "name": "stdout",
          "text": [
            "****************************************\n",
            "Masukkan bilangan pertama: 2002\n",
            "Masukkan bilangan kedua: 2017\n",
            "4019\n",
            "20022017\n"
          ]
        }
      ]
    }
  ]
}